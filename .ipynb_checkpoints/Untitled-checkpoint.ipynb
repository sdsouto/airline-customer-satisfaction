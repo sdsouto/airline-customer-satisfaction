{
 "cells": [
  {
   "cell_type": "code",
   "execution_count": null,
   "id": "e395318b-a985-414a-b5e3-a607de2bc259",
   "metadata": {},
   "outputs": [],
   "source": [
    "this is from tablet"
   ]
  },
  {
   "cell_type": "code",
   "execution_count": null,
   "id": "55fa9add-4aa5-42dd-8ecc-478e4d7385ce",
   "metadata": {},
   "outputs": [],
   "source": []
  },
  {
   "cell_type": "code",
   "execution_count": null,
   "id": "c38c54fb-1f3c-425b-a399-196ef91fb244",
   "metadata": {},
   "outputs": [],
   "source": []
  },
  {
   "cell_type": "code",
   "execution_count": 1,
   "id": "3021eeab-645a-41fb-8809-f4d911bdf67f",
   "metadata": {},
   "outputs": [
    {
     "ename": "SyntaxError",
     "evalue": "invalid syntax (1243285660.py, line 1)",
     "output_type": "error",
     "traceback": [
      "\u001b[1;36m  Cell \u001b[1;32mIn[1], line 1\u001b[1;36m\u001b[0m\n\u001b[1;33m    this is from desktop\u001b[0m\n\u001b[1;37m            ^\u001b[0m\n\u001b[1;31mSyntaxError\u001b[0m\u001b[1;31m:\u001b[0m invalid syntax\n"
     ]
    }
   ],
   "source": [
    "this is from desktop"
   ]
  },
  {
   "cell_type": "code",
   "execution_count": null,
   "id": "b99e15f3-5b95-47d3-8e22-ef77692aeb34",
   "metadata": {},
   "outputs": [],
   "source": [
    "this is from surface"
   ]
  },
  {
   "cell_type": "code",
   "execution_count": null,
   "id": "89bbb36f-d3af-4ebd-baaa-b4783ab31dca",
   "metadata": {},
   "outputs": [],
   "source": [
    "d"
   ]
  }
 ],
 "metadata": {
  "kernelspec": {
   "display_name": "Python 3 (ipykernel)",
   "language": "python",
   "name": "python3"
  },
  "language_info": {
   "codemirror_mode": {
    "name": "ipython",
    "version": 3
   },
   "file_extension": ".py",
   "mimetype": "text/x-python",
   "name": "python",
   "nbconvert_exporter": "python",
   "pygments_lexer": "ipython3",
   "version": "3.12.4"
  }
 },
 "nbformat": 4,
 "nbformat_minor": 5
}
